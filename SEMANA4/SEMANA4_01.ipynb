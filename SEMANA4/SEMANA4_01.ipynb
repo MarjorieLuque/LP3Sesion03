{
 "cells": [
  {
   "cell_type": "markdown",
   "id": "8f57078b",
   "metadata": {},
   "source": [
    "# 1.COLECCIONES"
   ]
  },
  {
   "cell_type": "code",
   "execution_count": 5,
   "id": "d9cd6670",
   "metadata": {},
   "outputs": [],
   "source": [
    "aula=['Figeroa','Garcia','Gutierre','Isla']"
   ]
  },
  {
   "cell_type": "code",
   "execution_count": 6,
   "id": "45b6e776",
   "metadata": {},
   "outputs": [
    {
     "name": "stdout",
     "output_type": "stream",
     "text": [
      "Figeroa\n"
     ]
    }
   ],
   "source": [
    "print(aula[0])"
   ]
  },
  {
   "cell_type": "code",
   "execution_count": 8,
   "id": "cdf1386c",
   "metadata": {},
   "outputs": [
    {
     "data": {
      "text/plain": [
       "['Figeroa',\n",
       " 'Garcia',\n",
       " 'Gutierre',\n",
       " 'Isla',\n",
       " 'Luque',\n",
       " 'Mamamni',\n",
       " 'Luque',\n",
       " 'Mamamni']"
      ]
     },
     "execution_count": 8,
     "metadata": {},
     "output_type": "execute_result"
    }
   ],
   "source": [
    "aula.append(\"Luque\")\n",
    "aula.append(\"Mamamni\")\n",
    "aula"
   ]
  },
  {
   "cell_type": "code",
   "execution_count": 11,
   "id": "300d4b61",
   "metadata": {},
   "outputs": [
    {
     "ename": "ValueError",
     "evalue": "list.remove(x): x not in list",
     "output_type": "error",
     "traceback": [
      "\u001b[1;31m---------------------------------------------------------------------------\u001b[0m",
      "\u001b[1;31mValueError\u001b[0m                                Traceback (most recent call last)",
      "Input \u001b[1;32mIn [11]\u001b[0m, in \u001b[0;36m<cell line: 1>\u001b[1;34m()\u001b[0m\n\u001b[1;32m----> 1\u001b[0m \u001b[43maula\u001b[49m\u001b[38;5;241;43m.\u001b[39;49m\u001b[43mremove\u001b[49m\u001b[43m(\u001b[49m\u001b[38;5;124;43m'\u001b[39;49m\u001b[38;5;124;43mFigeroa\u001b[39;49m\u001b[38;5;124;43m'\u001b[39;49m\u001b[43m)\u001b[49m\n\u001b[0;32m      2\u001b[0m aula\n",
      "\u001b[1;31mValueError\u001b[0m: list.remove(x): x not in list"
     ]
    }
   ],
   "source": [
    "aula.remove(\"Figeroa\")\n",
    "aula"
   ]
  },
  {
   "cell_type": "code",
   "execution_count": 12,
   "id": "d601339f",
   "metadata": {},
   "outputs": [
    {
     "data": {
      "text/plain": [
       "['Garcia', 'Gutierre', 'Isla', 'Luque', 'Mamamni', 'Luque', 'Mamamni']"
      ]
     },
     "execution_count": 12,
     "metadata": {},
     "output_type": "execute_result"
    }
   ],
   "source": [
    "aula"
   ]
  },
  {
   "cell_type": "code",
   "execution_count": 13,
   "id": "966bdb80",
   "metadata": {},
   "outputs": [
    {
     "data": {
      "text/plain": [
       "7"
      ]
     },
     "execution_count": 13,
     "metadata": {},
     "output_type": "execute_result"
    }
   ],
   "source": [
    "len(aula)"
   ]
  },
  {
   "cell_type": "code",
   "execution_count": 18,
   "id": "d4ba14f9",
   "metadata": {},
   "outputs": [
    {
     "name": "stdout",
     "output_type": "stream",
     "text": [
      "Garcia\n",
      "Gutierre\n",
      "Isla\n",
      "Luque\n",
      "Mamamni\n",
      "Luque\n",
      "Mamamni\n"
     ]
    }
   ],
   "source": [
    "for alumno in aula:\n",
    "    print(alumno)\n",
    "    "
   ]
  },
  {
   "cell_type": "raw",
   "id": "9d2bb6e6",
   "metadata": {},
   "source": []
  },
  {
   "cell_type": "code",
   "execution_count": 19,
   "id": "c9a7e814",
   "metadata": {},
   "outputs": [
    {
     "data": {
      "text/plain": [
       "['Mamamni', 'Luque', 'Mamamni', 'Luque', 'Isla', 'Gutierre', 'Garcia']"
      ]
     },
     "execution_count": 19,
     "metadata": {},
     "output_type": "execute_result"
    }
   ],
   "source": [
    "aula.reverse()\n",
    "aula"
   ]
  },
  {
   "cell_type": "code",
   "execution_count": 20,
   "id": "be43d70a",
   "metadata": {},
   "outputs": [
    {
     "data": {
      "text/plain": [
       "['Garcia', 'Gutierre', 'Isla', 'Luque', 'Luque', 'Mamamni', 'Mamamni']"
      ]
     },
     "execution_count": 20,
     "metadata": {},
     "output_type": "execute_result"
    }
   ],
   "source": [
    "aula.sort()\n",
    "aula"
   ]
  },
  {
   "cell_type": "code",
   "execution_count": null,
   "id": "fa06887c",
   "metadata": {},
   "outputs": [],
   "source": []
  }
 ],
 "metadata": {
  "kernelspec": {
   "display_name": "Python 3 (ipykernel)",
   "language": "python",
   "name": "python3"
  },
  "language_info": {
   "codemirror_mode": {
    "name": "ipython",
    "version": 3
   },
   "file_extension": ".py",
   "mimetype": "text/x-python",
   "name": "python",
   "nbconvert_exporter": "python",
   "pygments_lexer": "ipython3",
   "version": "3.9.12"
  }
 },
 "nbformat": 4,
 "nbformat_minor": 5
}
