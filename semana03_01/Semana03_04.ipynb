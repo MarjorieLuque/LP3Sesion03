{
 "cells": [
  {
   "cell_type": "markdown",
   "id": "bd793b43",
   "metadata": {},
   "source": [
    "# Ingreso de datos por teclado"
   ]
  },
  {
   "cell_type": "code",
   "execution_count": 2,
   "id": "63d2a0bb",
   "metadata": {},
   "outputs": [
    {
     "name": "stdout",
     "output_type": "stream",
     "text": [
      "¿cual es tu nombre?\n",
      "Marjorie\n",
      "holaMarjorie\n"
     ]
    }
   ],
   "source": [
    "#funsion input()\n",
    "print(\"¿cual es tu nombre?\")\n",
    "nombre=input()\n",
    "print(\"hola\"+ nombre)\n"
   ]
  },
  {
   "cell_type": "code",
   "execution_count": 5,
   "id": "02cf35e7",
   "metadata": {},
   "outputs": [
    {
     "name": "stdout",
     "output_type": "stream",
     "text": [
      "numero 1: \n",
      "7\n",
      "numero 2: \n",
      "8\n",
      "El resultado es 15\n"
     ]
    }
   ],
   "source": [
    "print (\"numero 1: \")\n",
    "numero1=input()\n",
    "print(\"numero 2: \")\n",
    "numero2=input()\n",
    "numero3=int(numero1) + int (numero2)\n",
    "print(f\"El resultado es {numero3}\")\n"
   ]
  }
 ],
 "metadata": {
  "kernelspec": {
   "display_name": "Python 3 (ipykernel)",
   "language": "python",
   "name": "python3"
  },
  "language_info": {
   "codemirror_mode": {
    "name": "ipython",
    "version": 3
   },
   "file_extension": ".py",
   "mimetype": "text/x-python",
   "name": "python",
   "nbconvert_exporter": "python",
   "pygments_lexer": "ipython3",
   "version": "3.9.12"
  }
 },
 "nbformat": 4,
 "nbformat_minor": 5
}
