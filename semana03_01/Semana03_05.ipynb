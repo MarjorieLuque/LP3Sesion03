{
 "cells": [
  {
   "cell_type": "markdown",
   "id": "7e58b03a",
   "metadata": {},
   "source": [
    "# OPERADORES MATEMATICAS"
   ]
  },
  {
   "cell_type": "code",
   "execution_count": 9,
   "id": "d4c3fb8e",
   "metadata": {},
   "outputs": [
    {
     "name": "stdout",
     "output_type": "stream",
     "text": [
      "La suma es : 17\n",
      "La resta es:  3\n",
      "La multiplicacion: 70\n",
      "La division es :  1.4285714285714286\n",
      "El residuo es:  3\n",
      "El cociente es: 1\n"
     ]
    }
   ],
   "source": [
    "numero1=10\n",
    "numero2=7\n",
    "suma=numero1+numero2\n",
    "resta=numero1-numero2\n",
    "multiplicacion=numero1*numero2\n",
    "division=numero1/numero2\n",
    "residuo=numero1%numero2\n",
    "cociente=numero1//numero2\n",
    "print(\"La suma es :\" ,suma)\n",
    "print(\"La resta es: \", resta)\n",
    "print(\"La multiplicacion:\" ,multiplicacion)\n",
    "print(\"La division es : \",division)\n",
    "print(\"El residuo es: \" ,residuo)\n",
    "print(\"El cociente es:\",cociente)\n"
   ]
  },
  {
   "cell_type": "code",
   "execution_count": 10,
   "id": "141052a8",
   "metadata": {},
   "outputs": [
    {
     "name": "stdout",
     "output_type": "stream",
     "text": [
      "8\n"
     ]
    }
   ],
   "source": [
    "numero=5\n",
    "numero= numero +3\n",
    "print(numero)"
   ]
  },
  {
   "cell_type": "code",
   "execution_count": 12,
   "id": "0ca43f29",
   "metadata": {},
   "outputs": [
    {
     "name": "stdout",
     "output_type": "stream",
     "text": [
      "8\n"
     ]
    }
   ],
   "source": [
    "numero=5\n",
    "numero +=3\n",
    "print(numero)"
   ]
  },
  {
   "cell_type": "code",
   "execution_count": 14,
   "id": "47ea107d",
   "metadata": {},
   "outputs": [
    {
     "name": "stdout",
     "output_type": "stream",
     "text": [
      "125\n"
     ]
    }
   ],
   "source": [
    "numero=5\n",
    "numero=numero**3\n",
    "print(numero)"
   ]
  },
  {
   "cell_type": "code",
   "execution_count": 15,
   "id": "3baf314a",
   "metadata": {},
   "outputs": [
    {
     "name": "stdout",
     "output_type": "stream",
     "text": [
      "125\n"
     ]
    }
   ],
   "source": [
    "numero=5\n",
    "numero**=3\n",
    "print(numero)"
   ]
  },
  {
   "cell_type": "code",
   "execution_count": 16,
   "id": "eac8f1ec",
   "metadata": {},
   "outputs": [
    {
     "data": {
      "text/plain": [
       "False"
      ]
     },
     "execution_count": 16,
     "metadata": {},
     "output_type": "execute_result"
    }
   ],
   "source": [
    "numero1=5\n",
    "numero2\n",
    "numero1==numero2"
   ]
  },
  {
   "cell_type": "code",
   "execution_count": 19,
   "id": "3dfef546",
   "metadata": {},
   "outputs": [
    {
     "data": {
      "text/plain": [
       "True"
      ]
     },
     "execution_count": 19,
     "metadata": {},
     "output_type": "execute_result"
    }
   ],
   "source": [
    "nombre1=\"Juan\"\n",
    "nombre2=\"Juan\"\n",
    "nombre1==nombre2"
   ]
  },
  {
   "cell_type": "code",
   "execution_count": 21,
   "id": "5f999a2b",
   "metadata": {},
   "outputs": [],
   "source": [
    "numero1=5\n",
    "numero2=6\n",
    "numero3=7\n",
    "numero4=8"
   ]
  },
  {
   "cell_type": "code",
   "execution_count": 22,
   "id": "e067703a",
   "metadata": {},
   "outputs": [
    {
     "data": {
      "text/plain": [
       "True"
      ]
     },
     "execution_count": 22,
     "metadata": {},
     "output_type": "execute_result"
    }
   ],
   "source": [
    "numero1<numero2"
   ]
  },
  {
   "cell_type": "code",
   "execution_count": 23,
   "id": "e2cabd39",
   "metadata": {},
   "outputs": [
    {
     "data": {
      "text/plain": [
       "False"
      ]
     },
     "execution_count": 23,
     "metadata": {},
     "output_type": "execute_result"
    }
   ],
   "source": [
    "not(numero1<numero2)"
   ]
  },
  {
   "cell_type": "code",
   "execution_count": 24,
   "id": "c7429a35",
   "metadata": {},
   "outputs": [
    {
     "data": {
      "text/plain": [
       "True"
      ]
     },
     "execution_count": 24,
     "metadata": {},
     "output_type": "execute_result"
    }
   ],
   "source": [
    "(numero1<numero2 and numero3<numero4) or (numero3>numero4)"
   ]
  },
  {
   "cell_type": "code",
   "execution_count": 32,
   "id": "c5ad44b6",
   "metadata": {},
   "outputs": [],
   "source": [
    "aula=[\"Juan\",\"Daniel\",\"Ruben\"]\n",
    "alumno1=\"Diego\"\n",
    "alumno2=\"Juan\""
   ]
  },
  {
   "cell_type": "code",
   "execution_count": 26,
   "id": "0fb0e84e",
   "metadata": {},
   "outputs": [
    {
     "data": {
      "text/plain": [
       "False"
      ]
     },
     "execution_count": 26,
     "metadata": {},
     "output_type": "execute_result"
    }
   ],
   "source": [
    "alumno1 in aula"
   ]
  },
  {
   "cell_type": "markdown",
   "id": "296ebdc4",
   "metadata": {},
   "source": []
  },
  {
   "cell_type": "code",
   "execution_count": 33,
   "id": "3b8a06b0",
   "metadata": {},
   "outputs": [
    {
     "data": {
      "text/plain": [
       "True"
      ]
     },
     "execution_count": 33,
     "metadata": {},
     "output_type": "execute_result"
    }
   ],
   "source": [
    "alumno2 in aula"
   ]
  },
  {
   "cell_type": "code",
   "execution_count": 35,
   "id": "a2d0a3d1",
   "metadata": {},
   "outputs": [],
   "source": [
    "aula1=[\"Juan\",\"Daniel\",\"Ruben\"]\n",
    "aula2=[\"Juan\",\"Daniel\",\"Ruben\"]\n",
    "#a ontinuaion vamos a indicar  que el aula 3 compartre el mismo objeto que el aula1\n",
    "aula3=aula1"
   ]
  },
  {
   "cell_type": "code",
   "execution_count": 36,
   "id": "b9230b48",
   "metadata": {},
   "outputs": [
    {
     "data": {
      "text/plain": [
       "True"
      ]
     },
     "execution_count": 36,
     "metadata": {},
     "output_type": "execute_result"
    }
   ],
   "source": [
    "aula3 is aula1"
   ]
  },
  {
   "cell_type": "code",
   "execution_count": 37,
   "id": "f0d078fd",
   "metadata": {},
   "outputs": [
    {
     "data": {
      "text/plain": [
       "False"
      ]
     },
     "execution_count": 37,
     "metadata": {},
     "output_type": "execute_result"
    }
   ],
   "source": [
    "aula3 is aula2"
   ]
  },
  {
   "cell_type": "code",
   "execution_count": 39,
   "id": "ffa5a94a",
   "metadata": {},
   "outputs": [],
   "source": [
    "aula1.append(\"Diego\")"
   ]
  },
  {
   "cell_type": "code",
   "execution_count": 41,
   "id": "f8308a64",
   "metadata": {},
   "outputs": [
    {
     "name": "stdout",
     "output_type": "stream",
     "text": [
      "['Juan', 'Daniel', 'Ruben', 'Diego']\n"
     ]
    }
   ],
   "source": [
    "print(aula1)"
   ]
  },
  {
   "cell_type": "code",
   "execution_count": 42,
   "id": "1e6db91d",
   "metadata": {},
   "outputs": [
    {
     "name": "stdout",
     "output_type": "stream",
     "text": [
      "['Juan', 'Daniel', 'Ruben', 'Diego']\n"
     ]
    }
   ],
   "source": [
    "print(aula3)"
   ]
  },
  {
   "cell_type": "code",
   "execution_count": null,
   "id": "f4305f02",
   "metadata": {},
   "outputs": [],
   "source": []
  }
 ],
 "metadata": {
  "kernelspec": {
   "display_name": "Python 3 (ipykernel)",
   "language": "python",
   "name": "python3"
  },
  "language_info": {
   "codemirror_mode": {
    "name": "ipython",
    "version": 3
   },
   "file_extension": ".py",
   "mimetype": "text/x-python",
   "name": "python",
   "nbconvert_exporter": "python",
   "pygments_lexer": "ipython3",
   "version": "3.9.12"
  }
 },
 "nbformat": 4,
 "nbformat_minor": 5
}
