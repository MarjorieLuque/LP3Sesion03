{
 "cells": [
  {
   "cell_type": "markdown",
   "id": "628eccb1",
   "metadata": {},
   "source": [
    "# OPERADORES MATEMATICAS"
   ]
  },
  {
   "cell_type": "code",
   "execution_count": 9,
   "id": "5fbd5f1f",
   "metadata": {},
   "outputs": [
    {
     "name": "stdout",
     "output_type": "stream",
     "text": [
      "La suma es : 17\n",
      "La resta es:  3\n",
      "La multiplicacion: 70\n",
      "La division es :  1.4285714285714286\n",
      "El residuo es:  3\n",
      "El cociente es: 1\n"
     ]
    }
   ],
   "source": [
    "numero1=10\n",
    "numero2=7\n",
    "suma=numero1+numero2\n",
    "resta=numero1-numero2\n",
    "multiplicacion=numero1*numero2\n",
    "division=numero1/numero2\n",
    "residuo=numero1%numero2\n",
    "cociente=numero1//numero2\n",
    "print(\"La suma es :\" ,suma)\n",
    "print(\"La resta es: \", resta)\n",
    "print(\"La multiplicacion:\" ,multiplicacion)\n",
    "print(\"La division es : \",division)\n",
    "print(\"El residuo es: \" ,residuo)\n",
    "print(\"El cociente es:\",cociente)\n"
   ]
  }
 ],
 "metadata": {
  "kernelspec": {
   "display_name": "Python 3 (ipykernel)",
   "language": "python",
   "name": "python3"
  },
  "language_info": {
   "codemirror_mode": {
    "name": "ipython",
    "version": 3
   },
   "file_extension": ".py",
   "mimetype": "text/x-python",
   "name": "python",
   "nbconvert_exporter": "python",
   "pygments_lexer": "ipython3",
   "version": "3.9.12"
  }
 },
 "nbformat": 4,
 "nbformat_minor": 5
}
