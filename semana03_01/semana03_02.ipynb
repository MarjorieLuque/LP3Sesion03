{
 "cells": [
  {
   "cell_type": "raw",
   "id": "4c747714",
   "metadata": {},
   "source": [
    "# Edad =41"
   ]
  },
  {
   "cell_type": "code",
   "execution_count": 2,
   "id": "5772d002",
   "metadata": {},
   "outputs": [
    {
     "data": {
      "text/plain": [
       "41"
      ]
     },
     "execution_count": 2,
     "metadata": {},
     "output_type": "execute_result"
    }
   ],
   "source": [
    "Edad\n"
   ]
  },
  {
   "cell_type": "markdown",
   "id": "2434293c",
   "metadata": {},
   "source": []
  },
  {
   "cell_type": "raw",
   "id": "95124f18",
   "metadata": {},
   "source": [
    "nombre=Marjorie"
   ]
  },
  {
   "cell_type": "markdown",
   "id": "0fd22c8e",
   "metadata": {},
   "source": [
    "nombre\n"
   ]
  },
  {
   "cell_type": "raw",
   "id": "28037fc8",
   "metadata": {},
   "source": []
  }
 ],
 "metadata": {
  "kernelspec": {
   "display_name": "Python 3 (ipykernel)",
   "language": "python",
   "name": "python3"
  },
  "language_info": {
   "codemirror_mode": {
    "name": "ipython",
    "version": 3
   },
   "file_extension": ".py",
   "mimetype": "text/x-python",
   "name": "python",
   "nbconvert_exporter": "python",
   "pygments_lexer": "ipython3",
   "version": "3.9.12"
  }
 },
 "nbformat": 4,
 "nbformat_minor": 5
}
